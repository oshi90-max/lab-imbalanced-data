{
 "cells": [
  {
   "cell_type": "code",
   "execution_count": null,
   "id": "d7381899",
   "metadata": {},
   "outputs": [],
   "source": [
    "import pandas as pd\n",
    "import numpy as np\n",
    "from sklearn.linear_model import LogisticRegression\n",
    "from sklearn.preprocessing import StandardScaler\n",
    "from imblearn.over_sampling import SMOTE\n",
    "from sklearn.metrics import precision_score\n",
    "from sklearn.metrics import recall_score\n",
    "from sklearn.metrics import f1_score\n",
    "from sklearn.utils import resample"
   ]
  },
  {
   "cell_type": "code",
   "execution_count": null,
   "id": "2fa8f5ab",
   "metadata": {},
   "outputs": [],
   "source": [
    "data=pd.read_csv(\"customer_churn.csv\")\n",
    "# data"
   ]
  },
  {
   "cell_type": "code",
   "execution_count": null,
   "id": "05558eab",
   "metadata": {},
   "outputs": [],
   "source": [
    "X = data[['tenure','SeniorCitizen','MonthlyCharges']]\n",
    "y = data[\"Churn\"]"
   ]
  },
  {
   "cell_type": "code",
   "execution_count": null,
   "id": "6e78d8dc",
   "metadata": {},
   "outputs": [],
   "source": [
    "y.replace(('Yes', 'No'), (1, 0), inplace=True)\n",
    "y"
   ]
  },
  {
   "cell_type": "code",
   "execution_count": null,
   "id": "e3c0a379",
   "metadata": {},
   "outputs": [],
   "source": [
    "from sklearn.model_selection import train_test_split\n",
    "X_train, X_test, y_train, y_test = train_test_split(X, y, random_state=0)"
   ]
  },
  {
   "cell_type": "code",
   "execution_count": null,
   "id": "2bd0723d",
   "metadata": {},
   "outputs": [],
   "source": [
    "# all features are numeric, so no need to split into _num and _cat\n",
    "transformer = StandardScaler().fit(X_train)\n",
    "X_train_scaled = pd.DataFrame(transformer.transform(X_train),columns=X.columns)\n",
    "# because this is the only tranformation we apply to the numerics, \n",
    "# we can immediately transform the X_test as well\n",
    "X_test_scaled = pd.DataFrame(transformer.transform(X_test),columns=X.columns)\n",
    "X_train_scaled.head()"
   ]
  },
  {
   "cell_type": "code",
   "execution_count": null,
   "id": "f94efdfa",
   "metadata": {},
   "outputs": [],
   "source": [
    "from sklearn.linear_model import LogisticRegression\n",
    "\n",
    "LR = LogisticRegression(random_state=0, solver='lbfgs')\n",
    "LR.fit(X_train_scaled, y_train)"
   ]
  },
  {
   "cell_type": "code",
   "execution_count": null,
   "id": "6e77d929",
   "metadata": {},
   "outputs": [],
   "source": [
    "logits = np.log(1/LR.predict_proba(X_train_scaled)[:,1]-1)"
   ]
  },
  {
   "cell_type": "code",
   "execution_count": null,
   "id": "7be024bb",
   "metadata": {},
   "outputs": [],
   "source": [
    "count_classes = data['Churn'].value_counts()\n",
    "count_classes.plot(kind = 'bar')"
   ]
  },
  {
   "cell_type": "code",
   "execution_count": null,
   "id": "1be9c98c",
   "metadata": {},
   "outputs": [],
   "source": [
    "count_classes = data['Churn'].value_counts()\n",
    "count_classes"
   ]
  },
  {
   "cell_type": "code",
   "execution_count": null,
   "id": "04290269",
   "metadata": {},
   "outputs": [],
   "source": [
    "5174/(5174+1869)"
   ]
  },
  {
   "cell_type": "code",
   "execution_count": null,
   "id": "f25dae91",
   "metadata": {},
   "outputs": [],
   "source": [
    "LR = LogisticRegression(random_state=0, solver='lbfgs')\n",
    "LR.fit(X_train_scaled, y_train)\n",
    "LR.score(X_test_scaled, y_test)\n",
    "# we are getting more then 70% accuracy because our samples are 73% 'yes' \n",
    "# meaning at least 73% of our model will predict 'yes' (it will be corect but not exact enough)"
   ]
  },
  {
   "cell_type": "code",
   "execution_count": null,
   "id": "f0e40c58",
   "metadata": {},
   "outputs": [],
   "source": [
    "pred = LR.predict(X_test_scaled)\n",
    "\n",
    "print(\"precision: \",precision_score(y_test,pred))\n",
    "print(\"recall: \",recall_score(y_test,pred))\n",
    "print(\"f1: \",f1_score(y_test,pred))"
   ]
  },
  {
   "cell_type": "code",
   "execution_count": null,
   "id": "8e364cbf",
   "metadata": {},
   "outputs": [],
   "source": [
    "#SMOTE\n",
    "sm = SMOTE(random_state=100,k_neighbors=3)\n",
    "X_train_SMOTE,y_train_SMOTE = sm.fit_resample(X_train_scaled,y_train)"
   ]
  },
  {
   "cell_type": "code",
   "execution_count": null,
   "id": "257f6603",
   "metadata": {},
   "outputs": [],
   "source": [
    "LR = LogisticRegression(max_iter=1000)\n",
    "LR.fit(X_train_SMOTE, y_train_SMOTE)\n",
    "pred = LR.predict(X_test_scaled)\n",
    "\n",
    "print(\"precision: \",precision_score(y_test,pred))\n",
    "print(\"recall: \",recall_score(y_test,pred))\n",
    "print(\"f1: \",f1_score(y_test,pred))"
   ]
  },
  {
   "cell_type": "code",
   "execution_count": null,
   "id": "70eb6269",
   "metadata": {},
   "outputs": [],
   "source": [
    "train = pd.concat([X_train_scaled, y_train],axis=1)     # oversampling\n",
    "train.head()"
   ]
  },
  {
   "cell_type": "code",
   "execution_count": null,
   "id": "de1431e5",
   "metadata": {},
   "outputs": [],
   "source": [
    "no = train[train['Churn']==0]\n",
    "yes = train[train['Churn']==1]"
   ]
  },
  {
   "cell_type": "code",
   "execution_count": null,
   "id": "c87eb505",
   "metadata": {},
   "outputs": [],
   "source": [
    "yes_oversampled = resample(yes, #<- sample from here\n",
    "                                    replace=True, #<- we need replacement, since we don't have enough data otherwise\n",
    "                                    n_samples = len(no),#<- make both sets the same size\n",
    "                                    random_state=0)"
   ]
  },
  {
   "cell_type": "code",
   "execution_count": null,
   "id": "794fcee5",
   "metadata": {},
   "outputs": [],
   "source": [
    "display(no.shape)\n",
    "display(yes_oversampled.shape)    #now we get the same number of samples"
   ]
  },
  {
   "cell_type": "code",
   "execution_count": null,
   "id": "c114a387",
   "metadata": {},
   "outputs": [],
   "source": [
    "train_oversampled = pd.concat([no,yes_oversampled],axis=0)\n",
    "train_oversampled.head()"
   ]
  },
  {
   "cell_type": "code",
   "execution_count": null,
   "id": "e01015f3",
   "metadata": {},
   "outputs": [],
   "source": [
    "y_train_over = train_oversampled['Churn'].copy()\n",
    "X_train_over = train_oversampled.drop('Churn',axis = 1).copy()"
   ]
  },
  {
   "cell_type": "code",
   "execution_count": null,
   "id": "2b8388f6",
   "metadata": {},
   "outputs": [],
   "source": [
    "LR = LogisticRegression(max_iter=1000)\n",
    "LR.fit(X_train_over, y_train_over)\n",
    "pred = LR.predict(X_test_scaled)\n",
    "\n",
    "print(\"precision: \",precision_score(y_test,pred))\n",
    "print(\"recall: \",recall_score(y_test,pred))\n",
    "print(\"f1: \",f1_score(y_test,pred))"
   ]
  },
  {
   "cell_type": "code",
   "execution_count": null,
   "id": "3badbaac",
   "metadata": {},
   "outputs": [],
   "source": [
    "# my predictions are not getting a lot better and i dont really understand why..."
   ]
  }
 ],
 "metadata": {
  "kernelspec": {
   "display_name": "Python 3 (ipykernel)",
   "language": "python",
   "name": "python3"
  },
  "language_info": {
   "codemirror_mode": {
    "name": "ipython",
    "version": 3
   },
   "file_extension": ".py",
   "mimetype": "text/x-python",
   "name": "python",
   "nbconvert_exporter": "python",
   "pygments_lexer": "ipython3",
   "version": "3.9.7"
  }
 },
 "nbformat": 4,
 "nbformat_minor": 5
}
